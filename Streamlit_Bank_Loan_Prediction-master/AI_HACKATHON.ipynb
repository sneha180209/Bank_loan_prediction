{
  "cells": [
    {
      "cell_type": "code",
      "execution_count": null,
      "metadata": {
        "id": "Gndlzm21Wfqs"
      },
      "outputs": [],
      "source": [
        "import pandas as pd\n",
        "import numpy as np  \n",
        "import matplotlib.pyplot as plt\n",
        "import seaborn as sns"
      ]
    },
    {
      "cell_type": "code",
      "execution_count": null,
      "metadata": {
        "id": "otgYfzdZXs-d"
      },
      "outputs": [],
      "source": [
        "train=pd.read_csv(\"credit_train.csv\")\n",
        "# test=pd.read_csv(\"credit_test.csv\")"
      ]
    },
    {
      "cell_type": "code",
      "execution_count": null,
      "metadata": {
        "colab": {
          "base_uri": "https://localhost:8080/",
          "height": 800
        },
        "id": "7SSv0X7Mi_Ve",
        "outputId": "10d34bf6-2ee3-4d44-b2e0-714558f7b266"
      },
      "outputs": [
        {
          "output_type": "execute_result",
          "data": {
            "text/plain": [
              "                                     Loan ID  \\\n",
              "0       14dd8831-6af5-400b-83ec-68e61888a048   \n",
              "1       4771cc26-131a-45db-b5aa-537ea4ba5342   \n",
              "2       4eed4e6a-aa2f-4c91-8651-ce984ee8fb26   \n",
              "3       77598f7b-32e7-4e3b-a6e5-06ba0d98fe8a   \n",
              "4       d4062e70-befa-4995-8643-a0de73938182   \n",
              "...                                      ...   \n",
              "100509                                   NaN   \n",
              "100510                                   NaN   \n",
              "100511                                   NaN   \n",
              "100512                                   NaN   \n",
              "100513                                   NaN   \n",
              "\n",
              "                                 Customer ID Loan Status  Current Loan Amount  \\\n",
              "0       981165ec-3274-42f5-a3b4-d104041a9ca9  Fully Paid             445412.0   \n",
              "1       2de017a3-2e01-49cb-a581-08169e83be29  Fully Paid             262328.0   \n",
              "2       5efb2b2b-bf11-4dfd-a572-3761a2694725  Fully Paid           99999999.0   \n",
              "3       e777faab-98ae-45af-9a86-7ce5b33b1011  Fully Paid             347666.0   \n",
              "4       81536ad9-5ccf-4eb8-befb-47a4d608658e  Fully Paid             176220.0   \n",
              "...                                      ...         ...                  ...   \n",
              "100509                                   NaN         NaN                  NaN   \n",
              "100510                                   NaN         NaN                  NaN   \n",
              "100511                                   NaN         NaN                  NaN   \n",
              "100512                                   NaN         NaN                  NaN   \n",
              "100513                                   NaN         NaN                  NaN   \n",
              "\n",
              "              Term  Credit Score  Annual Income Years in current job  \\\n",
              "0       Short Term         709.0      1167493.0              8 years   \n",
              "1       Short Term           NaN            NaN            10+ years   \n",
              "2       Short Term         741.0      2231892.0              8 years   \n",
              "3        Long Term         721.0       806949.0              3 years   \n",
              "4       Short Term           NaN            NaN              5 years   \n",
              "...            ...           ...            ...                  ...   \n",
              "100509         NaN           NaN            NaN                  NaN   \n",
              "100510         NaN           NaN            NaN                  NaN   \n",
              "100511         NaN           NaN            NaN                  NaN   \n",
              "100512         NaN           NaN            NaN                  NaN   \n",
              "100513         NaN           NaN            NaN                  NaN   \n",
              "\n",
              "       Home Ownership             Purpose  Monthly Debt  \\\n",
              "0       Home Mortgage   Home Improvements       5214.74   \n",
              "1       Home Mortgage  Debt Consolidation      33295.98   \n",
              "2            Own Home  Debt Consolidation      29200.53   \n",
              "3            Own Home  Debt Consolidation       8741.90   \n",
              "4                Rent  Debt Consolidation      20639.70   \n",
              "...               ...                 ...           ...   \n",
              "100509            NaN                 NaN           NaN   \n",
              "100510            NaN                 NaN           NaN   \n",
              "100511            NaN                 NaN           NaN   \n",
              "100512            NaN                 NaN           NaN   \n",
              "100513            NaN                 NaN           NaN   \n",
              "\n",
              "        Years of Credit History  Months since last delinquent  \\\n",
              "0                          17.2                           NaN   \n",
              "1                          21.1                           8.0   \n",
              "2                          14.9                          29.0   \n",
              "3                          12.0                           NaN   \n",
              "4                           6.1                           NaN   \n",
              "...                         ...                           ...   \n",
              "100509                      NaN                           NaN   \n",
              "100510                      NaN                           NaN   \n",
              "100511                      NaN                           NaN   \n",
              "100512                      NaN                           NaN   \n",
              "100513                      NaN                           NaN   \n",
              "\n",
              "        Number of Open Accounts  Number of Credit Problems  \\\n",
              "0                           6.0                        1.0   \n",
              "1                          35.0                        0.0   \n",
              "2                          18.0                        1.0   \n",
              "3                           9.0                        0.0   \n",
              "4                          15.0                        0.0   \n",
              "...                         ...                        ...   \n",
              "100509                      NaN                        NaN   \n",
              "100510                      NaN                        NaN   \n",
              "100511                      NaN                        NaN   \n",
              "100512                      NaN                        NaN   \n",
              "100513                      NaN                        NaN   \n",
              "\n",
              "        Current Credit Balance  Maximum Open Credit  Bankruptcies  Tax Liens  \n",
              "0                     228190.0             416746.0           1.0        0.0  \n",
              "1                     229976.0             850784.0           0.0        0.0  \n",
              "2                     297996.0             750090.0           0.0        0.0  \n",
              "3                     256329.0             386958.0           0.0        0.0  \n",
              "4                     253460.0             427174.0           0.0        0.0  \n",
              "...                        ...                  ...           ...        ...  \n",
              "100509                     NaN                  NaN           NaN        NaN  \n",
              "100510                     NaN                  NaN           NaN        NaN  \n",
              "100511                     NaN                  NaN           NaN        NaN  \n",
              "100512                     NaN                  NaN           NaN        NaN  \n",
              "100513                     NaN                  NaN           NaN        NaN  \n",
              "\n",
              "[100514 rows x 19 columns]"
            ],
            "text/html": [
              "\n",
              "  <div id=\"df-d36e40f9-0bd2-49ab-b90e-257bc3d0696f\">\n",
              "    <div class=\"colab-df-container\">\n",
              "      <div>\n",
              "<style scoped>\n",
              "    .dataframe tbody tr th:only-of-type {\n",
              "        vertical-align: middle;\n",
              "    }\n",
              "\n",
              "    .dataframe tbody tr th {\n",
              "        vertical-align: top;\n",
              "    }\n",
              "\n",
              "    .dataframe thead th {\n",
              "        text-align: right;\n",
              "    }\n",
              "</style>\n",
              "<table border=\"1\" class=\"dataframe\">\n",
              "  <thead>\n",
              "    <tr style=\"text-align: right;\">\n",
              "      <th></th>\n",
              "      <th>Loan ID</th>\n",
              "      <th>Customer ID</th>\n",
              "      <th>Loan Status</th>\n",
              "      <th>Current Loan Amount</th>\n",
              "      <th>Term</th>\n",
              "      <th>Credit Score</th>\n",
              "      <th>Annual Income</th>\n",
              "      <th>Years in current job</th>\n",
              "      <th>Home Ownership</th>\n",
              "      <th>Purpose</th>\n",
              "      <th>Monthly Debt</th>\n",
              "      <th>Years of Credit History</th>\n",
              "      <th>Months since last delinquent</th>\n",
              "      <th>Number of Open Accounts</th>\n",
              "      <th>Number of Credit Problems</th>\n",
              "      <th>Current Credit Balance</th>\n",
              "      <th>Maximum Open Credit</th>\n",
              "      <th>Bankruptcies</th>\n",
              "      <th>Tax Liens</th>\n",
              "    </tr>\n",
              "  </thead>\n",
              "  <tbody>\n",
              "    <tr>\n",
              "      <th>0</th>\n",
              "      <td>14dd8831-6af5-400b-83ec-68e61888a048</td>\n",
              "      <td>981165ec-3274-42f5-a3b4-d104041a9ca9</td>\n",
              "      <td>Fully Paid</td>\n",
              "      <td>445412.0</td>\n",
              "      <td>Short Term</td>\n",
              "      <td>709.0</td>\n",
              "      <td>1167493.0</td>\n",
              "      <td>8 years</td>\n",
              "      <td>Home Mortgage</td>\n",
              "      <td>Home Improvements</td>\n",
              "      <td>5214.74</td>\n",
              "      <td>17.2</td>\n",
              "      <td>NaN</td>\n",
              "      <td>6.0</td>\n",
              "      <td>1.0</td>\n",
              "      <td>228190.0</td>\n",
              "      <td>416746.0</td>\n",
              "      <td>1.0</td>\n",
              "      <td>0.0</td>\n",
              "    </tr>\n",
              "    <tr>\n",
              "      <th>1</th>\n",
              "      <td>4771cc26-131a-45db-b5aa-537ea4ba5342</td>\n",
              "      <td>2de017a3-2e01-49cb-a581-08169e83be29</td>\n",
              "      <td>Fully Paid</td>\n",
              "      <td>262328.0</td>\n",
              "      <td>Short Term</td>\n",
              "      <td>NaN</td>\n",
              "      <td>NaN</td>\n",
              "      <td>10+ years</td>\n",
              "      <td>Home Mortgage</td>\n",
              "      <td>Debt Consolidation</td>\n",
              "      <td>33295.98</td>\n",
              "      <td>21.1</td>\n",
              "      <td>8.0</td>\n",
              "      <td>35.0</td>\n",
              "      <td>0.0</td>\n",
              "      <td>229976.0</td>\n",
              "      <td>850784.0</td>\n",
              "      <td>0.0</td>\n",
              "      <td>0.0</td>\n",
              "    </tr>\n",
              "    <tr>\n",
              "      <th>2</th>\n",
              "      <td>4eed4e6a-aa2f-4c91-8651-ce984ee8fb26</td>\n",
              "      <td>5efb2b2b-bf11-4dfd-a572-3761a2694725</td>\n",
              "      <td>Fully Paid</td>\n",
              "      <td>99999999.0</td>\n",
              "      <td>Short Term</td>\n",
              "      <td>741.0</td>\n",
              "      <td>2231892.0</td>\n",
              "      <td>8 years</td>\n",
              "      <td>Own Home</td>\n",
              "      <td>Debt Consolidation</td>\n",
              "      <td>29200.53</td>\n",
              "      <td>14.9</td>\n",
              "      <td>29.0</td>\n",
              "      <td>18.0</td>\n",
              "      <td>1.0</td>\n",
              "      <td>297996.0</td>\n",
              "      <td>750090.0</td>\n",
              "      <td>0.0</td>\n",
              "      <td>0.0</td>\n",
              "    </tr>\n",
              "    <tr>\n",
              "      <th>3</th>\n",
              "      <td>77598f7b-32e7-4e3b-a6e5-06ba0d98fe8a</td>\n",
              "      <td>e777faab-98ae-45af-9a86-7ce5b33b1011</td>\n",
              "      <td>Fully Paid</td>\n",
              "      <td>347666.0</td>\n",
              "      <td>Long Term</td>\n",
              "      <td>721.0</td>\n",
              "      <td>806949.0</td>\n",
              "      <td>3 years</td>\n",
              "      <td>Own Home</td>\n",
              "      <td>Debt Consolidation</td>\n",
              "      <td>8741.90</td>\n",
              "      <td>12.0</td>\n",
              "      <td>NaN</td>\n",
              "      <td>9.0</td>\n",
              "      <td>0.0</td>\n",
              "      <td>256329.0</td>\n",
              "      <td>386958.0</td>\n",
              "      <td>0.0</td>\n",
              "      <td>0.0</td>\n",
              "    </tr>\n",
              "    <tr>\n",
              "      <th>4</th>\n",
              "      <td>d4062e70-befa-4995-8643-a0de73938182</td>\n",
              "      <td>81536ad9-5ccf-4eb8-befb-47a4d608658e</td>\n",
              "      <td>Fully Paid</td>\n",
              "      <td>176220.0</td>\n",
              "      <td>Short Term</td>\n",
              "      <td>NaN</td>\n",
              "      <td>NaN</td>\n",
              "      <td>5 years</td>\n",
              "      <td>Rent</td>\n",
              "      <td>Debt Consolidation</td>\n",
              "      <td>20639.70</td>\n",
              "      <td>6.1</td>\n",
              "      <td>NaN</td>\n",
              "      <td>15.0</td>\n",
              "      <td>0.0</td>\n",
              "      <td>253460.0</td>\n",
              "      <td>427174.0</td>\n",
              "      <td>0.0</td>\n",
              "      <td>0.0</td>\n",
              "    </tr>\n",
              "    <tr>\n",
              "      <th>...</th>\n",
              "      <td>...</td>\n",
              "      <td>...</td>\n",
              "      <td>...</td>\n",
              "      <td>...</td>\n",
              "      <td>...</td>\n",
              "      <td>...</td>\n",
              "      <td>...</td>\n",
              "      <td>...</td>\n",
              "      <td>...</td>\n",
              "      <td>...</td>\n",
              "      <td>...</td>\n",
              "      <td>...</td>\n",
              "      <td>...</td>\n",
              "      <td>...</td>\n",
              "      <td>...</td>\n",
              "      <td>...</td>\n",
              "      <td>...</td>\n",
              "      <td>...</td>\n",
              "      <td>...</td>\n",
              "    </tr>\n",
              "    <tr>\n",
              "      <th>100509</th>\n",
              "      <td>NaN</td>\n",
              "      <td>NaN</td>\n",
              "      <td>NaN</td>\n",
              "      <td>NaN</td>\n",
              "      <td>NaN</td>\n",
              "      <td>NaN</td>\n",
              "      <td>NaN</td>\n",
              "      <td>NaN</td>\n",
              "      <td>NaN</td>\n",
              "      <td>NaN</td>\n",
              "      <td>NaN</td>\n",
              "      <td>NaN</td>\n",
              "      <td>NaN</td>\n",
              "      <td>NaN</td>\n",
              "      <td>NaN</td>\n",
              "      <td>NaN</td>\n",
              "      <td>NaN</td>\n",
              "      <td>NaN</td>\n",
              "      <td>NaN</td>\n",
              "    </tr>\n",
              "    <tr>\n",
              "      <th>100510</th>\n",
              "      <td>NaN</td>\n",
              "      <td>NaN</td>\n",
              "      <td>NaN</td>\n",
              "      <td>NaN</td>\n",
              "      <td>NaN</td>\n",
              "      <td>NaN</td>\n",
              "      <td>NaN</td>\n",
              "      <td>NaN</td>\n",
              "      <td>NaN</td>\n",
              "      <td>NaN</td>\n",
              "      <td>NaN</td>\n",
              "      <td>NaN</td>\n",
              "      <td>NaN</td>\n",
              "      <td>NaN</td>\n",
              "      <td>NaN</td>\n",
              "      <td>NaN</td>\n",
              "      <td>NaN</td>\n",
              "      <td>NaN</td>\n",
              "      <td>NaN</td>\n",
              "    </tr>\n",
              "    <tr>\n",
              "      <th>100511</th>\n",
              "      <td>NaN</td>\n",
              "      <td>NaN</td>\n",
              "      <td>NaN</td>\n",
              "      <td>NaN</td>\n",
              "      <td>NaN</td>\n",
              "      <td>NaN</td>\n",
              "      <td>NaN</td>\n",
              "      <td>NaN</td>\n",
              "      <td>NaN</td>\n",
              "      <td>NaN</td>\n",
              "      <td>NaN</td>\n",
              "      <td>NaN</td>\n",
              "      <td>NaN</td>\n",
              "      <td>NaN</td>\n",
              "      <td>NaN</td>\n",
              "      <td>NaN</td>\n",
              "      <td>NaN</td>\n",
              "      <td>NaN</td>\n",
              "      <td>NaN</td>\n",
              "    </tr>\n",
              "    <tr>\n",
              "      <th>100512</th>\n",
              "      <td>NaN</td>\n",
              "      <td>NaN</td>\n",
              "      <td>NaN</td>\n",
              "      <td>NaN</td>\n",
              "      <td>NaN</td>\n",
              "      <td>NaN</td>\n",
              "      <td>NaN</td>\n",
              "      <td>NaN</td>\n",
              "      <td>NaN</td>\n",
              "      <td>NaN</td>\n",
              "      <td>NaN</td>\n",
              "      <td>NaN</td>\n",
              "      <td>NaN</td>\n",
              "      <td>NaN</td>\n",
              "      <td>NaN</td>\n",
              "      <td>NaN</td>\n",
              "      <td>NaN</td>\n",
              "      <td>NaN</td>\n",
              "      <td>NaN</td>\n",
              "    </tr>\n",
              "    <tr>\n",
              "      <th>100513</th>\n",
              "      <td>NaN</td>\n",
              "      <td>NaN</td>\n",
              "      <td>NaN</td>\n",
              "      <td>NaN</td>\n",
              "      <td>NaN</td>\n",
              "      <td>NaN</td>\n",
              "      <td>NaN</td>\n",
              "      <td>NaN</td>\n",
              "      <td>NaN</td>\n",
              "      <td>NaN</td>\n",
              "      <td>NaN</td>\n",
              "      <td>NaN</td>\n",
              "      <td>NaN</td>\n",
              "      <td>NaN</td>\n",
              "      <td>NaN</td>\n",
              "      <td>NaN</td>\n",
              "      <td>NaN</td>\n",
              "      <td>NaN</td>\n",
              "      <td>NaN</td>\n",
              "    </tr>\n",
              "  </tbody>\n",
              "</table>\n",
              "<p>100514 rows × 19 columns</p>\n",
              "</div>\n",
              "      <button class=\"colab-df-convert\" onclick=\"convertToInteractive('df-d36e40f9-0bd2-49ab-b90e-257bc3d0696f')\"\n",
              "              title=\"Convert this dataframe to an interactive table.\"\n",
              "              style=\"display:none;\">\n",
              "        \n",
              "  <svg xmlns=\"http://www.w3.org/2000/svg\" height=\"24px\"viewBox=\"0 0 24 24\"\n",
              "       width=\"24px\">\n",
              "    <path d=\"M0 0h24v24H0V0z\" fill=\"none\"/>\n",
              "    <path d=\"M18.56 5.44l.94 2.06.94-2.06 2.06-.94-2.06-.94-.94-2.06-.94 2.06-2.06.94zm-11 1L8.5 8.5l.94-2.06 2.06-.94-2.06-.94L8.5 2.5l-.94 2.06-2.06.94zm10 10l.94 2.06.94-2.06 2.06-.94-2.06-.94-.94-2.06-.94 2.06-2.06.94z\"/><path d=\"M17.41 7.96l-1.37-1.37c-.4-.4-.92-.59-1.43-.59-.52 0-1.04.2-1.43.59L10.3 9.45l-7.72 7.72c-.78.78-.78 2.05 0 2.83L4 21.41c.39.39.9.59 1.41.59.51 0 1.02-.2 1.41-.59l7.78-7.78 2.81-2.81c.8-.78.8-2.07 0-2.86zM5.41 20L4 18.59l7.72-7.72 1.47 1.35L5.41 20z\"/>\n",
              "  </svg>\n",
              "      </button>\n",
              "      \n",
              "  <style>\n",
              "    .colab-df-container {\n",
              "      display:flex;\n",
              "      flex-wrap:wrap;\n",
              "      gap: 12px;\n",
              "    }\n",
              "\n",
              "    .colab-df-convert {\n",
              "      background-color: #E8F0FE;\n",
              "      border: none;\n",
              "      border-radius: 50%;\n",
              "      cursor: pointer;\n",
              "      display: none;\n",
              "      fill: #1967D2;\n",
              "      height: 32px;\n",
              "      padding: 0 0 0 0;\n",
              "      width: 32px;\n",
              "    }\n",
              "\n",
              "    .colab-df-convert:hover {\n",
              "      background-color: #E2EBFA;\n",
              "      box-shadow: 0px 1px 2px rgba(60, 64, 67, 0.3), 0px 1px 3px 1px rgba(60, 64, 67, 0.15);\n",
              "      fill: #174EA6;\n",
              "    }\n",
              "\n",
              "    [theme=dark] .colab-df-convert {\n",
              "      background-color: #3B4455;\n",
              "      fill: #D2E3FC;\n",
              "    }\n",
              "\n",
              "    [theme=dark] .colab-df-convert:hover {\n",
              "      background-color: #434B5C;\n",
              "      box-shadow: 0px 1px 3px 1px rgba(0, 0, 0, 0.15);\n",
              "      filter: drop-shadow(0px 1px 2px rgba(0, 0, 0, 0.3));\n",
              "      fill: #FFFFFF;\n",
              "    }\n",
              "  </style>\n",
              "\n",
              "      <script>\n",
              "        const buttonEl =\n",
              "          document.querySelector('#df-d36e40f9-0bd2-49ab-b90e-257bc3d0696f button.colab-df-convert');\n",
              "        buttonEl.style.display =\n",
              "          google.colab.kernel.accessAllowed ? 'block' : 'none';\n",
              "\n",
              "        async function convertToInteractive(key) {\n",
              "          const element = document.querySelector('#df-d36e40f9-0bd2-49ab-b90e-257bc3d0696f');\n",
              "          const dataTable =\n",
              "            await google.colab.kernel.invokeFunction('convertToInteractive',\n",
              "                                                     [key], {});\n",
              "          if (!dataTable) return;\n",
              "\n",
              "          const docLinkHtml = 'Like what you see? Visit the ' +\n",
              "            '<a target=\"_blank\" href=https://colab.research.google.com/notebooks/data_table.ipynb>data table notebook</a>'\n",
              "            + ' to learn more about interactive tables.';\n",
              "          element.innerHTML = '';\n",
              "          dataTable['output_type'] = 'display_data';\n",
              "          await google.colab.output.renderOutput(dataTable, element);\n",
              "          const docLink = document.createElement('div');\n",
              "          docLink.innerHTML = docLinkHtml;\n",
              "          element.appendChild(docLink);\n",
              "        }\n",
              "      </script>\n",
              "    </div>\n",
              "  </div>\n",
              "  "
            ]
          },
          "metadata": {},
          "execution_count": 9
        }
      ],
      "source": [
        "train"
      ]
    },
    {
      "cell_type": "code",
      "execution_count": null,
      "metadata": {
        "colab": {
          "base_uri": "https://localhost:8080/"
        },
        "id": "0oXIEgONjFRz",
        "outputId": "6a634db0-fdd0-4ca9-b5ad-61fe5248354c"
      },
      "outputs": [
        {
          "output_type": "execute_result",
          "data": {
            "text/plain": [
              "(100514, 19)"
            ]
          },
          "metadata": {},
          "execution_count": 10
        }
      ],
      "source": [
        "train.shape"
      ]
    },
    {
      "cell_type": "code",
      "execution_count": null,
      "metadata": {
        "colab": {
          "base_uri": "https://localhost:8080/"
        },
        "id": "UzXI447MXtAw",
        "outputId": "f7ce8ac1-a4ad-4949-f52a-b8a69d795792"
      },
      "outputs": [
        {
          "output_type": "execute_result",
          "data": {
            "text/plain": [
              "Loan ID                           514\n",
              "Customer ID                       514\n",
              "Loan Status                       514\n",
              "Current Loan Amount               514\n",
              "Term                              514\n",
              "Credit Score                    19668\n",
              "Annual Income                   19668\n",
              "Years in current job             4736\n",
              "Home Ownership                    514\n",
              "Purpose                           514\n",
              "Monthly Debt                      514\n",
              "Years of Credit History           514\n",
              "Months since last delinquent    53655\n",
              "Number of Open Accounts           514\n",
              "Number of Credit Problems         514\n",
              "Current Credit Balance            514\n",
              "Maximum Open Credit               516\n",
              "Bankruptcies                      718\n",
              "Tax Liens                         524\n",
              "dtype: int64"
            ]
          },
          "metadata": {},
          "execution_count": 11
        }
      ],
      "source": [
        "train.isnull().sum()"
      ]
    },
    {
      "cell_type": "code",
      "execution_count": null,
      "metadata": {
        "colab": {
          "base_uri": "https://localhost:8080/"
        },
        "id": "_kae0LdlfIhr",
        "outputId": "3370ea42-55a2-4c87-8176-bed5668b4147"
      },
      "outputs": [
        {
          "output_type": "execute_result",
          "data": {
            "text/plain": [
              "Loan ID                           514\n",
              "Customer ID                       514\n",
              "Loan Status                       514\n",
              "Current Loan Amount               514\n",
              "Term                              514\n",
              "Credit Score                    19668\n",
              "Annual Income                   19668\n",
              "Years in current job             4736\n",
              "Home Ownership                    514\n",
              "Purpose                           514\n",
              "Monthly Debt                      514\n",
              "Years of Credit History           514\n",
              "Months since last delinquent    53655\n",
              "Number of Open Accounts           514\n",
              "Number of Credit Problems         514\n",
              "Current Credit Balance            514\n",
              "Maximum Open Credit               516\n",
              "Bankruptcies                      718\n",
              "Tax Liens                         524\n",
              "dtype: int64"
            ]
          },
          "metadata": {},
          "execution_count": 12
        }
      ],
      "source": [
        "train.replace(r'^\\s*$', np.nan,regex=True,inplace=True)\n",
        "train.isnull().sum()"
      ]
    },
    {
      "cell_type": "code",
      "execution_count": null,
      "metadata": {
        "id": "LNZAEM6zXtCt"
      },
      "outputs": [],
      "source": [
        "train.drop(['Customer ID','Years of Credit History','Loan ID','Months since last delinquent','Number of Open Accounts','Number of Credit Problems','Tax Liens','Years in current job','Loan Status','Number of Credit Problems','Maximum Open Credit','Tax Liens'], axis=1,inplace=True)"
      ]
    },
    {
      "cell_type": "code",
      "execution_count": null,
      "metadata": {
        "colab": {
          "base_uri": "https://localhost:8080/"
        },
        "id": "apbe8768XtFC",
        "outputId": "ec65d1a3-4eff-4800-a01c-66046be11b22"
      },
      "outputs": [
        {
          "output_type": "execute_result",
          "data": {
            "text/plain": [
              "Current Loan Amount         514\n",
              "Term                        514\n",
              "Credit Score              19668\n",
              "Annual Income             19668\n",
              "Home Ownership              514\n",
              "Purpose                     514\n",
              "Monthly Debt                514\n",
              "Current Credit Balance      514\n",
              "Bankruptcies                718\n",
              "dtype: int64"
            ]
          },
          "metadata": {},
          "execution_count": 14
        }
      ],
      "source": [
        "train.isnull().sum()"
      ]
    },
    {
      "cell_type": "code",
      "execution_count": null,
      "metadata": {
        "colab": {
          "base_uri": "https://localhost:8080/"
        },
        "id": "iM3mZcnpXtGz",
        "outputId": "5b5ab42b-86cd-441e-9fb7-894b5a06fa8a"
      },
      "outputs": [
        {
          "output_type": "execute_result",
          "data": {
            "text/plain": [
              "Current Loan Amount       0\n",
              "Term                      0\n",
              "Credit Score              0\n",
              "Annual Income             0\n",
              "Home Ownership            0\n",
              "Purpose                   0\n",
              "Monthly Debt              0\n",
              "Current Credit Balance    0\n",
              "Bankruptcies              0\n",
              "dtype: int64"
            ]
          },
          "metadata": {},
          "execution_count": 15
        }
      ],
      "source": [
        "train.dropna(inplace=True)\n",
        "train.isnull().sum()"
      ]
    },
    {
      "cell_type": "code",
      "execution_count": null,
      "metadata": {
        "colab": {
          "base_uri": "https://localhost:8080/"
        },
        "id": "JzMaVUdGfy2G",
        "outputId": "172dd620-c412-4b8a-bccb-921abf1530f8"
      },
      "outputs": [
        {
          "output_type": "stream",
          "name": "stdout",
          "text": [
            "(80684, 9)\n"
          ]
        }
      ],
      "source": [
        "print(train.shape)"
      ]
    },
    {
      "cell_type": "code",
      "source": [
        "# data.Gender=data.Gender.map({'Male':1,'Female':0})\n",
        "train.Term.value_counts()"
      ],
      "metadata": {
        "colab": {
          "base_uri": "https://localhost:8080/"
        },
        "id": "aeMT1xgtqGAD",
        "outputId": "0d212a97-c8dc-4ed2-f537-c99f8f53a1ef"
      },
      "execution_count": null,
      "outputs": [
        {
          "output_type": "execute_result",
          "data": {
            "text/plain": [
              "Short Term    57578\n",
              "Long Term     23106\n",
              "Name: Term, dtype: int64"
            ]
          },
          "metadata": {},
          "execution_count": 17
        }
      ]
    },
    {
      "cell_type": "code",
      "source": [
        "train.Term=train.Term.map({'Short Term':1,'Long Term':0})"
      ],
      "metadata": {
        "id": "VExZjETWqGDK"
      },
      "execution_count": null,
      "outputs": []
    },
    {
      "cell_type": "code",
      "source": [
        "train.Term"
      ],
      "metadata": {
        "colab": {
          "base_uri": "https://localhost:8080/"
        },
        "id": "ZjRrKjCRqGGP",
        "outputId": "1e49e803-ea51-4a09-d9f1-6e714bb912eb"
      },
      "execution_count": null,
      "outputs": [
        {
          "output_type": "execute_result",
          "data": {
            "text/plain": [
              "0        1\n",
              "2        1\n",
              "3        0\n",
              "5        1\n",
              "6        1\n",
              "        ..\n",
              "99995    1\n",
              "99996    1\n",
              "99997    1\n",
              "99998    1\n",
              "99999    1\n",
              "Name: Term, Length: 80684, dtype: int64"
            ]
          },
          "metadata": {},
          "execution_count": 19
        }
      ]
    },
    {
      "cell_type": "code",
      "source": [
        "train['Home Ownership'].value_counts()"
      ],
      "metadata": {
        "colab": {
          "base_uri": "https://localhost:8080/"
        },
        "id": "5CAo2_Swrj-s",
        "outputId": "956b5a35-ce33-4573-b6da-76129cca64ae"
      },
      "execution_count": null,
      "outputs": [
        {
          "output_type": "execute_result",
          "data": {
            "text/plain": [
              "Home Mortgage    39033\n",
              "Rent             34002\n",
              "Own Home          7464\n",
              "HaveMortgage       185\n",
              "Name: Home Ownership, dtype: int64"
            ]
          },
          "metadata": {},
          "execution_count": 20
        }
      ]
    },
    {
      "cell_type": "code",
      "source": [
        "train['Home Ownership']=train['Home Ownership'].map({'Home Mortgage':0,'Rent':1,'Own Home':2,'HaveMortgage':3})"
      ],
      "metadata": {
        "id": "DVnGBANvr1CX"
      },
      "execution_count": null,
      "outputs": []
    },
    {
      "cell_type": "code",
      "source": [
        "train['Home Ownership']"
      ],
      "metadata": {
        "colab": {
          "base_uri": "https://localhost:8080/"
        },
        "id": "L9kOGpO3sPm_",
        "outputId": "25ec33d2-bf0a-4e7c-8bbf-47fd5ba59708"
      },
      "execution_count": null,
      "outputs": [
        {
          "output_type": "execute_result",
          "data": {
            "text/plain": [
              "0        0\n",
              "2        2\n",
              "3        2\n",
              "5        0\n",
              "6        0\n",
              "        ..\n",
              "99995    2\n",
              "99996    1\n",
              "99997    1\n",
              "99998    1\n",
              "99999    2\n",
              "Name: Home Ownership, Length: 80684, dtype: int64"
            ]
          },
          "metadata": {},
          "execution_count": 22
        }
      ]
    },
    {
      "cell_type": "code",
      "source": [
        "# # x=train['Purpose'].value_counts()\n",
        "# # x\n",
        "# y=(train['Purpose'].unique())\n",
        "# i=0\n",
        "# dict1={}\n",
        "# for j in y:\n",
        "#   dict1.update({j:i})\n",
        "#   i+=1\n",
        "# print(dict1)\n",
        "# # for i \n",
        "# # train.Purpose=train.Purpose.map()\n",
        "# # df2=df.replace({\"Courses\": dict})\n",
        "# for ind in dict1:\n",
        "#   train=train.replace({Purpose: dict1})\n",
        "# print(train.Purpose)\n",
        "train.Purpose=train.Purpose.map({'Home Improvements': 0, 'Debt Consolidation': 1, 'Buy House': 2, 'Business Loan': 3, 'other': 4, 'major_purchase': 5, 'Take a Trip': 6, 'Other': 7, 'Buy a Car': 8, 'small_business': 9, 'Medical Bills': 10,\n",
        "                                 'wedding': 11, 'vacation': 12, 'Educational Expenses': 13,\n",
        "                                 'moving': 14, 'renewable_energy': 15})\n",
        "train.Purpose\n",
        "\n",
        "\n",
        "\n",
        "\n",
        "# l=[]\n",
        "# l.append(x)\n",
        "# l[0][0]"
      ],
      "metadata": {
        "colab": {
          "base_uri": "https://localhost:8080/"
        },
        "id": "v1PsyxEcsXoh",
        "outputId": "c11544e8-85a2-4234-b2f2-a31c02e727fd"
      },
      "execution_count": null,
      "outputs": [
        {
          "output_type": "execute_result",
          "data": {
            "text/plain": [
              "0        0\n",
              "2        1\n",
              "3        1\n",
              "5        1\n",
              "6        1\n",
              "        ..\n",
              "99995    4\n",
              "99996    1\n",
              "99997    1\n",
              "99998    1\n",
              "99999    1\n",
              "Name: Purpose, Length: 80684, dtype: int64"
            ]
          },
          "metadata": {},
          "execution_count": 23
        }
      ]
    },
    {
      "cell_type": "code",
      "source": [
        "print(train)"
      ],
      "metadata": {
        "id": "3-4IS6SRqGH1",
        "colab": {
          "base_uri": "https://localhost:8080/"
        },
        "outputId": "8cf29535-7e53-4055-f6cd-0ef375965e4d"
      },
      "execution_count": null,
      "outputs": [
        {
          "output_type": "stream",
          "name": "stdout",
          "text": [
            "       Current Loan Amount  Term  Credit Score  Annual Income  Home Ownership  \\\n",
            "0                 445412.0     1         709.0      1167493.0               0   \n",
            "2               99999999.0     1         741.0      2231892.0               2   \n",
            "3                 347666.0     0         721.0       806949.0               2   \n",
            "5                 206602.0     1        7290.0       896857.0               0   \n",
            "6                 217646.0     1         730.0      1184194.0               0   \n",
            "...                    ...   ...           ...            ...             ...   \n",
            "99995             147070.0     1         725.0       475437.0               2   \n",
            "99996           99999999.0     1         732.0      1289416.0               1   \n",
            "99997             103136.0     1         742.0      1150545.0               1   \n",
            "99998             530332.0     1         746.0      1717524.0               1   \n",
            "99999           99999999.0     1         743.0       935180.0               2   \n",
            "\n",
            "       Purpose  Monthly Debt  Current Credit Balance  Bankruptcies  \n",
            "0            0       5214.74                228190.0           1.0  \n",
            "2            1      29200.53                297996.0           0.0  \n",
            "3            1       8741.90                256329.0           0.0  \n",
            "5            1      16367.74                215308.0           0.0  \n",
            "6            1      10855.08                122170.0           1.0  \n",
            "...        ...           ...                     ...           ...  \n",
            "99995        4       2202.86                 47766.0           0.0  \n",
            "99996        1      13109.05                153045.0           0.0  \n",
            "99997        1       7315.57                109554.0           1.0  \n",
            "99998        1       9890.07                404225.0           0.0  \n",
            "99999        1       9118.10                 45600.0           1.0  \n",
            "\n",
            "[80684 rows x 9 columns]\n"
          ]
        }
      ]
    },
    {
      "cell_type": "code",
      "execution_count": null,
      "metadata": {
        "colab": {
          "base_uri": "https://localhost:8080/"
        },
        "id": "zB59BUwcrsDC",
        "outputId": "2e03b4bf-425b-43ec-9860-e3b15b36c4b8"
      },
      "outputs": [
        {
          "output_type": "execute_result",
          "data": {
            "text/plain": [
              "0.0    71696\n",
              "1.0     8545\n",
              "2.0      331\n",
              "3.0       81\n",
              "4.0       22\n",
              "5.0        6\n",
              "6.0        2\n",
              "7.0        1\n",
              "Name: Bankruptcies, dtype: int64"
            ]
          },
          "metadata": {},
          "execution_count": 25
        }
      ],
      "source": [
        "train.Bankruptcies.value_counts()"
      ]
    },
    {
      "cell_type": "code",
      "execution_count": null,
      "metadata": {
        "colab": {
          "base_uri": "https://localhost:8080/"
        },
        "id": "2VNhWX33tJmN",
        "outputId": "91ecf67c-d342-462e-b5d6-0243def8903d"
      },
      "outputs": [
        {
          "output_type": "stream",
          "name": "stdout",
          "text": [
            "74194\n"
          ]
        }
      ],
      "source": [
        "x=0\n",
        "for index, row in train.iterrows():\n",
        "  if (row[\"Credit Score\"]<750):\n",
        "    x+=1\n",
        "print(x)"
      ]
    },
    {
      "cell_type": "code",
      "execution_count": null,
      "metadata": {
        "id": "wUDcY30wrsGn"
      },
      "outputs": [],
      "source": [
        "train.insert(9,\"Loan_given\",value='0')\n",
        "# train.insert(17, \"Count\", value='0')\n",
        "# train.insert(18, \"yes\", value='0')"
      ]
    },
    {
      "cell_type": "code",
      "execution_count": null,
      "metadata": {
        "colab": {
          "base_uri": "https://localhost:8080/",
          "height": 485
        },
        "id": "ontsl8prGMri",
        "outputId": "313b0c74-e91a-471e-b947-e8d94094f520"
      },
      "outputs": [
        {
          "output_type": "execute_result",
          "data": {
            "text/plain": [
              "       Current Loan Amount  Term  Credit Score  Annual Income  Home Ownership  \\\n",
              "0                 445412.0     1         709.0      1167493.0               0   \n",
              "2               99999999.0     1         741.0      2231892.0               2   \n",
              "3                 347666.0     0         721.0       806949.0               2   \n",
              "5                 206602.0     1        7290.0       896857.0               0   \n",
              "6                 217646.0     1         730.0      1184194.0               0   \n",
              "...                    ...   ...           ...            ...             ...   \n",
              "99995             147070.0     1         725.0       475437.0               2   \n",
              "99996           99999999.0     1         732.0      1289416.0               1   \n",
              "99997             103136.0     1         742.0      1150545.0               1   \n",
              "99998             530332.0     1         746.0      1717524.0               1   \n",
              "99999           99999999.0     1         743.0       935180.0               2   \n",
              "\n",
              "       Purpose  Monthly Debt  Current Credit Balance  Bankruptcies Loan_given  \n",
              "0            0       5214.74                228190.0           1.0          0  \n",
              "2            1      29200.53                297996.0           0.0          0  \n",
              "3            1       8741.90                256329.0           0.0          0  \n",
              "5            1      16367.74                215308.0           0.0          0  \n",
              "6            1      10855.08                122170.0           1.0          0  \n",
              "...        ...           ...                     ...           ...        ...  \n",
              "99995        4       2202.86                 47766.0           0.0          0  \n",
              "99996        1      13109.05                153045.0           0.0          0  \n",
              "99997        1       7315.57                109554.0           1.0          0  \n",
              "99998        1       9890.07                404225.0           0.0          0  \n",
              "99999        1       9118.10                 45600.0           1.0          0  \n",
              "\n",
              "[80684 rows x 10 columns]"
            ],
            "text/html": [
              "\n",
              "  <div id=\"df-af1cc07d-1ae9-4af2-97ee-c4de9e6bf24e\">\n",
              "    <div class=\"colab-df-container\">\n",
              "      <div>\n",
              "<style scoped>\n",
              "    .dataframe tbody tr th:only-of-type {\n",
              "        vertical-align: middle;\n",
              "    }\n",
              "\n",
              "    .dataframe tbody tr th {\n",
              "        vertical-align: top;\n",
              "    }\n",
              "\n",
              "    .dataframe thead th {\n",
              "        text-align: right;\n",
              "    }\n",
              "</style>\n",
              "<table border=\"1\" class=\"dataframe\">\n",
              "  <thead>\n",
              "    <tr style=\"text-align: right;\">\n",
              "      <th></th>\n",
              "      <th>Current Loan Amount</th>\n",
              "      <th>Term</th>\n",
              "      <th>Credit Score</th>\n",
              "      <th>Annual Income</th>\n",
              "      <th>Home Ownership</th>\n",
              "      <th>Purpose</th>\n",
              "      <th>Monthly Debt</th>\n",
              "      <th>Current Credit Balance</th>\n",
              "      <th>Bankruptcies</th>\n",
              "      <th>Loan_given</th>\n",
              "    </tr>\n",
              "  </thead>\n",
              "  <tbody>\n",
              "    <tr>\n",
              "      <th>0</th>\n",
              "      <td>445412.0</td>\n",
              "      <td>1</td>\n",
              "      <td>709.0</td>\n",
              "      <td>1167493.0</td>\n",
              "      <td>0</td>\n",
              "      <td>0</td>\n",
              "      <td>5214.74</td>\n",
              "      <td>228190.0</td>\n",
              "      <td>1.0</td>\n",
              "      <td>0</td>\n",
              "    </tr>\n",
              "    <tr>\n",
              "      <th>2</th>\n",
              "      <td>99999999.0</td>\n",
              "      <td>1</td>\n",
              "      <td>741.0</td>\n",
              "      <td>2231892.0</td>\n",
              "      <td>2</td>\n",
              "      <td>1</td>\n",
              "      <td>29200.53</td>\n",
              "      <td>297996.0</td>\n",
              "      <td>0.0</td>\n",
              "      <td>0</td>\n",
              "    </tr>\n",
              "    <tr>\n",
              "      <th>3</th>\n",
              "      <td>347666.0</td>\n",
              "      <td>0</td>\n",
              "      <td>721.0</td>\n",
              "      <td>806949.0</td>\n",
              "      <td>2</td>\n",
              "      <td>1</td>\n",
              "      <td>8741.90</td>\n",
              "      <td>256329.0</td>\n",
              "      <td>0.0</td>\n",
              "      <td>0</td>\n",
              "    </tr>\n",
              "    <tr>\n",
              "      <th>5</th>\n",
              "      <td>206602.0</td>\n",
              "      <td>1</td>\n",
              "      <td>7290.0</td>\n",
              "      <td>896857.0</td>\n",
              "      <td>0</td>\n",
              "      <td>1</td>\n",
              "      <td>16367.74</td>\n",
              "      <td>215308.0</td>\n",
              "      <td>0.0</td>\n",
              "      <td>0</td>\n",
              "    </tr>\n",
              "    <tr>\n",
              "      <th>6</th>\n",
              "      <td>217646.0</td>\n",
              "      <td>1</td>\n",
              "      <td>730.0</td>\n",
              "      <td>1184194.0</td>\n",
              "      <td>0</td>\n",
              "      <td>1</td>\n",
              "      <td>10855.08</td>\n",
              "      <td>122170.0</td>\n",
              "      <td>1.0</td>\n",
              "      <td>0</td>\n",
              "    </tr>\n",
              "    <tr>\n",
              "      <th>...</th>\n",
              "      <td>...</td>\n",
              "      <td>...</td>\n",
              "      <td>...</td>\n",
              "      <td>...</td>\n",
              "      <td>...</td>\n",
              "      <td>...</td>\n",
              "      <td>...</td>\n",
              "      <td>...</td>\n",
              "      <td>...</td>\n",
              "      <td>...</td>\n",
              "    </tr>\n",
              "    <tr>\n",
              "      <th>99995</th>\n",
              "      <td>147070.0</td>\n",
              "      <td>1</td>\n",
              "      <td>725.0</td>\n",
              "      <td>475437.0</td>\n",
              "      <td>2</td>\n",
              "      <td>4</td>\n",
              "      <td>2202.86</td>\n",
              "      <td>47766.0</td>\n",
              "      <td>0.0</td>\n",
              "      <td>0</td>\n",
              "    </tr>\n",
              "    <tr>\n",
              "      <th>99996</th>\n",
              "      <td>99999999.0</td>\n",
              "      <td>1</td>\n",
              "      <td>732.0</td>\n",
              "      <td>1289416.0</td>\n",
              "      <td>1</td>\n",
              "      <td>1</td>\n",
              "      <td>13109.05</td>\n",
              "      <td>153045.0</td>\n",
              "      <td>0.0</td>\n",
              "      <td>0</td>\n",
              "    </tr>\n",
              "    <tr>\n",
              "      <th>99997</th>\n",
              "      <td>103136.0</td>\n",
              "      <td>1</td>\n",
              "      <td>742.0</td>\n",
              "      <td>1150545.0</td>\n",
              "      <td>1</td>\n",
              "      <td>1</td>\n",
              "      <td>7315.57</td>\n",
              "      <td>109554.0</td>\n",
              "      <td>1.0</td>\n",
              "      <td>0</td>\n",
              "    </tr>\n",
              "    <tr>\n",
              "      <th>99998</th>\n",
              "      <td>530332.0</td>\n",
              "      <td>1</td>\n",
              "      <td>746.0</td>\n",
              "      <td>1717524.0</td>\n",
              "      <td>1</td>\n",
              "      <td>1</td>\n",
              "      <td>9890.07</td>\n",
              "      <td>404225.0</td>\n",
              "      <td>0.0</td>\n",
              "      <td>0</td>\n",
              "    </tr>\n",
              "    <tr>\n",
              "      <th>99999</th>\n",
              "      <td>99999999.0</td>\n",
              "      <td>1</td>\n",
              "      <td>743.0</td>\n",
              "      <td>935180.0</td>\n",
              "      <td>2</td>\n",
              "      <td>1</td>\n",
              "      <td>9118.10</td>\n",
              "      <td>45600.0</td>\n",
              "      <td>1.0</td>\n",
              "      <td>0</td>\n",
              "    </tr>\n",
              "  </tbody>\n",
              "</table>\n",
              "<p>80684 rows × 10 columns</p>\n",
              "</div>\n",
              "      <button class=\"colab-df-convert\" onclick=\"convertToInteractive('df-af1cc07d-1ae9-4af2-97ee-c4de9e6bf24e')\"\n",
              "              title=\"Convert this dataframe to an interactive table.\"\n",
              "              style=\"display:none;\">\n",
              "        \n",
              "  <svg xmlns=\"http://www.w3.org/2000/svg\" height=\"24px\"viewBox=\"0 0 24 24\"\n",
              "       width=\"24px\">\n",
              "    <path d=\"M0 0h24v24H0V0z\" fill=\"none\"/>\n",
              "    <path d=\"M18.56 5.44l.94 2.06.94-2.06 2.06-.94-2.06-.94-.94-2.06-.94 2.06-2.06.94zm-11 1L8.5 8.5l.94-2.06 2.06-.94-2.06-.94L8.5 2.5l-.94 2.06-2.06.94zm10 10l.94 2.06.94-2.06 2.06-.94-2.06-.94-.94-2.06-.94 2.06-2.06.94z\"/><path d=\"M17.41 7.96l-1.37-1.37c-.4-.4-.92-.59-1.43-.59-.52 0-1.04.2-1.43.59L10.3 9.45l-7.72 7.72c-.78.78-.78 2.05 0 2.83L4 21.41c.39.39.9.59 1.41.59.51 0 1.02-.2 1.41-.59l7.78-7.78 2.81-2.81c.8-.78.8-2.07 0-2.86zM5.41 20L4 18.59l7.72-7.72 1.47 1.35L5.41 20z\"/>\n",
              "  </svg>\n",
              "      </button>\n",
              "      \n",
              "  <style>\n",
              "    .colab-df-container {\n",
              "      display:flex;\n",
              "      flex-wrap:wrap;\n",
              "      gap: 12px;\n",
              "    }\n",
              "\n",
              "    .colab-df-convert {\n",
              "      background-color: #E8F0FE;\n",
              "      border: none;\n",
              "      border-radius: 50%;\n",
              "      cursor: pointer;\n",
              "      display: none;\n",
              "      fill: #1967D2;\n",
              "      height: 32px;\n",
              "      padding: 0 0 0 0;\n",
              "      width: 32px;\n",
              "    }\n",
              "\n",
              "    .colab-df-convert:hover {\n",
              "      background-color: #E2EBFA;\n",
              "      box-shadow: 0px 1px 2px rgba(60, 64, 67, 0.3), 0px 1px 3px 1px rgba(60, 64, 67, 0.15);\n",
              "      fill: #174EA6;\n",
              "    }\n",
              "\n",
              "    [theme=dark] .colab-df-convert {\n",
              "      background-color: #3B4455;\n",
              "      fill: #D2E3FC;\n",
              "    }\n",
              "\n",
              "    [theme=dark] .colab-df-convert:hover {\n",
              "      background-color: #434B5C;\n",
              "      box-shadow: 0px 1px 3px 1px rgba(0, 0, 0, 0.15);\n",
              "      filter: drop-shadow(0px 1px 2px rgba(0, 0, 0, 0.3));\n",
              "      fill: #FFFFFF;\n",
              "    }\n",
              "  </style>\n",
              "\n",
              "      <script>\n",
              "        const buttonEl =\n",
              "          document.querySelector('#df-af1cc07d-1ae9-4af2-97ee-c4de9e6bf24e button.colab-df-convert');\n",
              "        buttonEl.style.display =\n",
              "          google.colab.kernel.accessAllowed ? 'block' : 'none';\n",
              "\n",
              "        async function convertToInteractive(key) {\n",
              "          const element = document.querySelector('#df-af1cc07d-1ae9-4af2-97ee-c4de9e6bf24e');\n",
              "          const dataTable =\n",
              "            await google.colab.kernel.invokeFunction('convertToInteractive',\n",
              "                                                     [key], {});\n",
              "          if (!dataTable) return;\n",
              "\n",
              "          const docLinkHtml = 'Like what you see? Visit the ' +\n",
              "            '<a target=\"_blank\" href=https://colab.research.google.com/notebooks/data_table.ipynb>data table notebook</a>'\n",
              "            + ' to learn more about interactive tables.';\n",
              "          element.innerHTML = '';\n",
              "          dataTable['output_type'] = 'display_data';\n",
              "          await google.colab.output.renderOutput(dataTable, element);\n",
              "          const docLink = document.createElement('div');\n",
              "          docLink.innerHTML = docLinkHtml;\n",
              "          element.appendChild(docLink);\n",
              "        }\n",
              "      </script>\n",
              "    </div>\n",
              "  </div>\n",
              "  "
            ]
          },
          "metadata": {},
          "execution_count": 28
        }
      ],
      "source": [
        "train"
      ]
    },
    {
      "cell_type": "code",
      "execution_count": null,
      "metadata": {
        "colab": {
          "base_uri": "https://localhost:8080/"
        },
        "id": "GV5gzEsXZ4Ep",
        "outputId": "00873672-d7ab-4e50-a592-023fac332dce"
      },
      "outputs": [
        {
          "output_type": "stream",
          "name": "stderr",
          "text": [
            "/usr/local/lib/python3.7/dist-packages/ipykernel_launcher.py:47: SettingWithCopyWarning: \n",
            "A value is trying to be set on a copy of a slice from a DataFrame\n",
            "\n",
            "See the caveats in the documentation: https://pandas.pydata.org/pandas-docs/stable/user_guide/indexing.html#returning-a-view-versus-a-copy\n",
            "/usr/local/lib/python3.7/dist-packages/ipykernel_launcher.py:41: SettingWithCopyWarning: \n",
            "A value is trying to be set on a copy of a slice from a DataFrame\n",
            "\n",
            "See the caveats in the documentation: https://pandas.pydata.org/pandas-docs/stable/user_guide/indexing.html#returning-a-view-versus-a-copy\n"
          ]
        }
      ],
      "source": [
        "from pandas.core.roperator import rpow\n",
        "# for i in range len(train)\n",
        "# print(len(train))\n",
        "# for i in range len(train):\n",
        "#   print(train)\n",
        "no=0  \n",
        "y=0\n",
        "given=True\n",
        "f1=0\n",
        "f2=0\n",
        "f4=0\n",
        "f3=0\n",
        "\n",
        "\n",
        "for ind in train.index:\n",
        "  count=0\n",
        "  yes=0\n",
        "  if train[\"Bankruptcies\"][ind]>0:\n",
        "    # and train[\"Credit Score\"][ind]>750\n",
        "    given=False\n",
        "  else:\n",
        "    if ((train[\"Annual Income\"][ind]/12)*27>=train[\"Current Loan Amount\"][ind] and train[\"Credit Score\"][ind]>700):\n",
        "      # count+=1\n",
        "      yes+=1 \n",
        "      # f4+=1\n",
        "    else:\n",
        "      if (((train[\"Annual Income\"][ind]/12)*27<=train[\"Current Loan Amount\"][ind] and (train[\"Annual Income\"][ind]/12)*30>=train[\"Current Loan Amount\"][ind] and train[\"Credit Score\"][ind]>600)):\n",
        "        count+=1\n",
        "        # f1+=1\n",
        "      if((train[\"Annual Income\"][ind]/12)*27<=train[\"Current Loan Amount\"][ind] and train[\"Home Ownership\"][ind]==2):\n",
        "        count+=1\n",
        "        # f2+=2\n",
        "      if(train[\"Current Credit Balance\"][ind]>0.5*train[\"Current Loan Amount\"][ind]):\n",
        "        count+=1\n",
        "      # f3+=1\n",
        "  # print(count)\n",
        "  # if(yes==1):\n",
        "  #   f4+=1\n",
        "  if  count>=1 or yes==1:\n",
        "    # f1+=1\n",
        "    train[\"Loan_given\"][ind]=1\n",
        "    if(yes==1):\n",
        "      f1+=1\n",
        "    if(count==1):\n",
        "      f2+=1\n",
        "  else:\n",
        "    train[\"Loan_given\"][ind]=0\n",
        "\n",
        "# print(train[\"Loan_given\"])\n",
        "\n",
        "    # else:\n",
        "    #   no+=1\n",
        "\n",
        "train.to_csv('New_file_credit.csv')\n",
        " "
      ]
    },
    {
      "cell_type": "code",
      "execution_count": null,
      "metadata": {
        "colab": {
          "base_uri": "https://localhost:8080/"
        },
        "id": "qiywyXlucI4_",
        "outputId": "f3f41002-4695-4125-dc33-e9230cff4ee4"
      },
      "outputs": [
        {
          "output_type": "stream",
          "name": "stdout",
          "text": [
            "47809 10337\n"
          ]
        }
      ],
      "source": [
        "# test1=pd.read_csv(\"New_file_credit.csv\")\n",
        "# test1\n",
        "# print(train[\"Loan_given\"])\n",
        "print(f1,f2)"
      ]
    },
    {
      "cell_type": "code",
      "source": [
        "# test1.drop(['Unnamed:'],axis=1,inplace=True)"
      ],
      "metadata": {
        "id": "TASUCYO6ZRm5"
      },
      "execution_count": null,
      "outputs": []
    },
    {
      "cell_type": "code",
      "execution_count": null,
      "metadata": {
        "colab": {
          "base_uri": "https://localhost:8080/"
        },
        "id": "W-WAmMB1IuDk",
        "outputId": "e74db15b-0e78-49f3-a63c-0207cb526d5f"
      },
      "outputs": [
        {
          "output_type": "execute_result",
          "data": {
            "text/plain": [
              "1    58146\n",
              "0    22538\n",
              "Name: Loan_given, dtype: int64"
            ]
          },
          "metadata": {},
          "execution_count": 32
        }
      ],
      "source": [
        "train[\"Loan_given\"].value_counts()"
      ]
    },
    {
      "cell_type": "markdown",
      "metadata": {
        "id": "XiK3gDfKJCaX"
      },
      "source": [
        "# DATA VISUALIZATION"
      ]
    },
    {
      "cell_type": "code",
      "execution_count": null,
      "metadata": {
        "colab": {
          "base_uri": "https://localhost:8080/",
          "height": 248
        },
        "id": "KCmX2sgXh9tX",
        "outputId": "abd563e0-e9c8-4a03-9597-8dddd711832d"
      },
      "outputs": [
        {
          "output_type": "display_data",
          "data": {
            "text/plain": [
              "<Figure size 432x288 with 1 Axes>"
            ],
            "image/png": "[encoded data removed]"
          },
          "metadata": {}
        }
      ],
      "source": [
        "# #define data\n",
        "data = [f1,f2]\n",
        "labels = ['Primary Condition', 'Alternate Condition']\n",
        "\n",
        "#define Seaborn color palette to use\n",
        "colors = sns.color_palette('bright')[2:4]\n",
        "explode = [0.1, 0.1]\n",
        "\n",
        "# create pie chart\n",
        "plt.pie(data, labels = labels, colors = colors, explode=explode, autopct='%.0f%%')\n",
        "plt.show()\n",
        "\n"
      ]
    },
    {
      "cell_type": "code",
      "execution_count": null,
      "metadata": {
        "colab": {
          "base_uri": "https://localhost:8080/"
        },
        "id": "45GP4kIzJEa5",
        "outputId": "7c24fa76-0965-4f12-fec7-bb892edbb239"
      },
      "outputs": [
        {
          "output_type": "execute_result",
          "data": {
            "text/plain": [
              "0    39033\n",
              "1    34002\n",
              "2     7464\n",
              "3      185\n",
              "Name: Home Ownership, dtype: int64"
            ]
          },
          "metadata": {},
          "execution_count": 34
        }
      ],
      "source": [
        "train[\"Home Ownership\"].value_counts()"
      ]
    },
    {
      "cell_type": "code",
      "execution_count": null,
      "metadata": {
        "colab": {
          "base_uri": "https://localhost:8080/"
        },
        "id": "4ez8WKIakZgy",
        "outputId": "61124166-a1f2-4462-9f8c-b097a4baa674"
      },
      "outputs": [
        {
          "output_type": "stream",
          "name": "stdout",
          "text": [
            "27682 24157 6179 128\n"
          ]
        }
      ],
      "source": [
        "h1=0\n",
        "h2=0\n",
        "h3=0\n",
        "h4=0\n",
        "for ind in train.index:\n",
        "  if(train[\"Loan_given\"][ind]==1 and train[\"Home Ownership\"][ind]==0):\n",
        "    h1+=1\n",
        "  if(train[\"Loan_given\"][ind]==1 and train[\"Home Ownership\"][ind]==1):\n",
        "    h2+=1\n",
        "  if(train[\"Loan_given\"][ind]==1 and train[\"Home Ownership\"][ind]==2):\n",
        "    h3+=1\n",
        "  if(train[\"Loan_given\"][ind]==1 and train[\"Home Ownership\"][ind]==3):\n",
        "    h4+=1\n",
        "\n",
        "h11=0\n",
        "h22=0\n",
        "h33=0\n",
        "h44=0\n",
        "for ind in train.index:\n",
        "  if(train[\"Loan_given\"][ind]==0 and train[\"Home Ownership\"][ind]==0):\n",
        "    h11+=1\n",
        "  if(train[\"Loan_given\"][ind]==0 and train[\"Home Ownership\"][ind]==1):\n",
        "    h22+=1\n",
        "  if(train[\"Loan_given\"][ind]==0 and train[\"Home Ownership\"][ind]==2):\n",
        "    h33+=1\n",
        "  if(train[\"Loan_given\"][ind]==0 and train[\"Home Ownership\"][ind]==3):\n",
        "    h44+=1\n",
        "\n",
        "print(h1,h2,h3,h4)\n"
      ]
    },
    {
      "cell_type": "code",
      "execution_count": null,
      "metadata": {
        "colab": {
          "base_uri": "https://localhost:8080/",
          "height": 265
        },
        "id": "z2xoQR0cJeP7",
        "outputId": "47bff2ac-56d3-4c23-b2b8-da0ce3ec3283"
      },
      "outputs": [
        {
          "output_type": "display_data",
          "data": {
            "text/plain": [
              "<Figure size 432x288 with 1 Axes>"
            ],
            "image/png": "[encoded data removed]"
          },
          "metadata": {
            "needs_background": "light"
          }
        }
      ],
      "source": [
        "index=['Home Mortgage','Rent','Own Home', 'HaveMortage']\n",
        "df = pd.DataFrame({'Home Ownership of Loan Applicants(Y)':[h1,h2,h3,h4], 'Home Ownership of Loan Applicants(N)':[h11,h22,h33,h44]},index=index)\n",
        "ax = df.plot.bar(rot=0)"
      ]
    },
    {
      "cell_type": "code",
      "execution_count": null,
      "metadata": {
        "id": "XZg5oOfBNiEI",
        "colab": {
          "base_uri": "https://localhost:8080/",
          "height": 424
        },
        "outputId": "c067efa4-80cd-4381-dac5-670000eccc75"
      },
      "outputs": [
        {
          "output_type": "execute_result",
          "data": {
            "text/plain": [
              "       Loan_given\n",
              "0               0\n",
              "2               1\n",
              "3               1\n",
              "5               1\n",
              "6               0\n",
              "...           ...\n",
              "99995           1\n",
              "99996           0\n",
              "99997           0\n",
              "99998           1\n",
              "99999           0\n",
              "\n",
              "[80684 rows x 1 columns]"
            ],
            "text/html": [
              "\n",
              "  <div id=\"df-0d925f60-7a33-4111-8f2b-cad70c574d15\">\n",
              "    <div class=\"colab-df-container\">\n",
              "      <div>\n",
              "<style scoped>\n",
              "    .dataframe tbody tr th:only-of-type {\n",
              "        vertical-align: middle;\n",
              "    }\n",
              "\n",
              "    .dataframe tbody tr th {\n",
              "        vertical-align: top;\n",
              "    }\n",
              "\n",
              "    .dataframe thead th {\n",
              "        text-align: right;\n",
              "    }\n",
              "</style>\n",
              "<table border=\"1\" class=\"dataframe\">\n",
              "  <thead>\n",
              "    <tr style=\"text-align: right;\">\n",
              "      <th></th>\n",
              "      <th>Loan_given</th>\n",
              "    </tr>\n",
              "  </thead>\n",
              "  <tbody>\n",
              "    <tr>\n",
              "      <th>0</th>\n",
              "      <td>0</td>\n",
              "    </tr>\n",
              "    <tr>\n",
              "      <th>2</th>\n",
              "      <td>1</td>\n",
              "    </tr>\n",
              "    <tr>\n",
              "      <th>3</th>\n",
              "      <td>1</td>\n",
              "    </tr>\n",
              "    <tr>\n",
              "      <th>5</th>\n",
              "      <td>1</td>\n",
              "    </tr>\n",
              "    <tr>\n",
              "      <th>6</th>\n",
              "      <td>0</td>\n",
              "    </tr>\n",
              "    <tr>\n",
              "      <th>...</th>\n",
              "      <td>...</td>\n",
              "    </tr>\n",
              "    <tr>\n",
              "      <th>99995</th>\n",
              "      <td>1</td>\n",
              "    </tr>\n",
              "    <tr>\n",
              "      <th>99996</th>\n",
              "      <td>0</td>\n",
              "    </tr>\n",
              "    <tr>\n",
              "      <th>99997</th>\n",
              "      <td>0</td>\n",
              "    </tr>\n",
              "    <tr>\n",
              "      <th>99998</th>\n",
              "      <td>1</td>\n",
              "    </tr>\n",
              "    <tr>\n",
              "      <th>99999</th>\n",
              "      <td>0</td>\n",
              "    </tr>\n",
              "  </tbody>\n",
              "</table>\n",
              "<p>80684 rows × 1 columns</p>\n",
              "</div>\n",
              "      <button class=\"colab-df-convert\" onclick=\"convertToInteractive('df-0d925f60-7a33-4111-8f2b-cad70c574d15')\"\n",
              "              title=\"Convert this dataframe to an interactive table.\"\n",
              "              style=\"display:none;\">\n",
              "        \n",
              "  <svg xmlns=\"http://www.w3.org/2000/svg\" height=\"24px\"viewBox=\"0 0 24 24\"\n",
              "       width=\"24px\">\n",
              "    <path d=\"M0 0h24v24H0V0z\" fill=\"none\"/>\n",
              "    <path d=\"M18.56 5.44l.94 2.06.94-2.06 2.06-.94-2.06-.94-.94-2.06-.94 2.06-2.06.94zm-11 1L8.5 8.5l.94-2.06 2.06-.94-2.06-.94L8.5 2.5l-.94 2.06-2.06.94zm10 10l.94 2.06.94-2.06 2.06-.94-2.06-.94-.94-2.06-.94 2.06-2.06.94z\"/><path d=\"M17.41 7.96l-1.37-1.37c-.4-.4-.92-.59-1.43-.59-.52 0-1.04.2-1.43.59L10.3 9.45l-7.72 7.72c-.78.78-.78 2.05 0 2.83L4 21.41c.39.39.9.59 1.41.59.51 0 1.02-.2 1.41-.59l7.78-7.78 2.81-2.81c.8-.78.8-2.07 0-2.86zM5.41 20L4 18.59l7.72-7.72 1.47 1.35L5.41 20z\"/>\n",
              "  </svg>\n",
              "      </button>\n",
              "      \n",
              "  <style>\n",
              "    .colab-df-container {\n",
              "      display:flex;\n",
              "      flex-wrap:wrap;\n",
              "      gap: 12px;\n",
              "    }\n",
              "\n",
              "    .colab-df-convert {\n",
              "      background-color: #E8F0FE;\n",
              "      border: none;\n",
              "      border-radius: 50%;\n",
              "      cursor: pointer;\n",
              "      display: none;\n",
              "      fill: #1967D2;\n",
              "      height: 32px;\n",
              "      padding: 0 0 0 0;\n",
              "      width: 32px;\n",
              "    }\n",
              "\n",
              "    .colab-df-convert:hover {\n",
              "      background-color: #E2EBFA;\n",
              "      box-shadow: 0px 1px 2px rgba(60, 64, 67, 0.3), 0px 1px 3px 1px rgba(60, 64, 67, 0.15);\n",
              "      fill: #174EA6;\n",
              "    }\n",
              "\n",
              "    [theme=dark] .colab-df-convert {\n",
              "      background-color: #3B4455;\n",
              "      fill: #D2E3FC;\n",
              "    }\n",
              "\n",
              "    [theme=dark] .colab-df-convert:hover {\n",
              "      background-color: #434B5C;\n",
              "      box-shadow: 0px 1px 3px 1px rgba(0, 0, 0, 0.15);\n",
              "      filter: drop-shadow(0px 1px 2px rgba(0, 0, 0, 0.3));\n",
              "      fill: #FFFFFF;\n",
              "    }\n",
              "  </style>\n",
              "\n",
              "      <script>\n",
              "        const buttonEl =\n",
              "          document.querySelector('#df-0d925f60-7a33-4111-8f2b-cad70c574d15 button.colab-df-convert');\n",
              "        buttonEl.style.display =\n",
              "          google.colab.kernel.accessAllowed ? 'block' : 'none';\n",
              "\n",
              "        async function convertToInteractive(key) {\n",
              "          const element = document.querySelector('#df-0d925f60-7a33-4111-8f2b-cad70c574d15');\n",
              "          const dataTable =\n",
              "            await google.colab.kernel.invokeFunction('convertToInteractive',\n",
              "                                                     [key], {});\n",
              "          if (!dataTable) return;\n",
              "\n",
              "          const docLinkHtml = 'Like what you see? Visit the ' +\n",
              "            '<a target=\"_blank\" href=https://colab.research.google.com/notebooks/data_table.ipynb>data table notebook</a>'\n",
              "            + ' to learn more about interactive tables.';\n",
              "          element.innerHTML = '';\n",
              "          dataTable['output_type'] = 'display_data';\n",
              "          await google.colab.output.renderOutput(dataTable, element);\n",
              "          const docLink = document.createElement('div');\n",
              "          docLink.innerHTML = docLinkHtml;\n",
              "          element.appendChild(docLink);\n",
              "        }\n",
              "      </script>\n",
              "    </div>\n",
              "  </div>\n",
              "  "
            ]
          },
          "metadata": {},
          "execution_count": 37
        }
      ],
      "source": [
        "X=train.iloc[:,:-1]\n",
        "X=X.astype('int')\n",
        "# y=y.astype('int')\n",
        "Y=train.iloc[:,-1:]\n",
        "Y=Y.astype('int')\n",
        "Y"
      ]
    },
    {
      "cell_type": "code",
      "execution_count": null,
      "metadata": {
        "id": "P4DOpCHLNiGY",
        "colab": {
          "base_uri": "https://localhost:8080/"
        },
        "outputId": "90794719-3549-4bb5-86cf-21e94880b9ca"
      },
      "outputs": [
        {
          "output_type": "execute_result",
          "data": {
            "text/plain": [
              "Index(['Current Loan Amount', 'Term', 'Credit Score', 'Annual Income',\n",
              "       'Home Ownership', 'Purpose', 'Monthly Debt', 'Current Credit Balance',\n",
              "       'Bankruptcies'],\n",
              "      dtype='object')"
            ]
          },
          "metadata": {},
          "execution_count": 38
        }
      ],
      "source": [
        "X.columns"
      ]
    },
    {
      "cell_type": "code",
      "execution_count": null,
      "metadata": {
        "id": "IJpuUulNNiIg"
      },
      "outputs": [],
      "source": [
        "from sklearn.tree import DecisionTreeClassifier\n",
        "# from sklearn.svm import SVC\n",
        "# from sklearn.naive_bayes import GaussianNB\n",
        "from sklearn.linear_model import LogisticRegression\n",
        "# from sklearn.ensemble import RandomForestClassifier\n",
        "# from sklearn.model_selection import KFold \n",
        "# from sklearn.model_selection import cross_val_score\n",
        "result=[]\n",
        "names=[]"
      ]
    },
    {
      "cell_type": "code",
      "execution_count": null,
      "metadata": {
        "id": "xLC9eizCNiKj",
        "colab": {
          "base_uri": "https://localhost:8080/",
          "height": 250
        },
        "outputId": "63c0a32e-8f76-485e-b695-59599956ed6f"
      },
      "outputs": [
        {
          "output_type": "execute_result",
          "data": {
            "text/plain": [
              "       Current Loan Amount  Term  Credit Score  Annual Income  Home Ownership  \\\n",
              "98912               445962     0           739        1793638               0   \n",
              "60823               261206     1           741         864728               1   \n",
              "29528               330264     1           745        2229840               0   \n",
              "87907               440066     1           716        1099682               1   \n",
              "21883             99999999     1           743        1912350               0   \n",
              "\n",
              "       Purpose  Monthly Debt  Current Credit Balance  Bankruptcies  \n",
              "98912        1          5081                  195700             0  \n",
              "60823        1         15709                  245746             0  \n",
              "29528        1         22670                  361836             0  \n",
              "87907        1          9988                  107863             0  \n",
              "21883        7          8669                  376067             0  "
            ],
            "text/html": [
              "\n",
              "  <div id=\"df-74f56035-4a8c-47be-a8b1-0ec5bacb7b09\">\n",
              "    <div class=\"colab-df-container\">\n",
              "      <div>\n",
              "<style scoped>\n",
              "    .dataframe tbody tr th:only-of-type {\n",
              "        vertical-align: middle;\n",
              "    }\n",
              "\n",
              "    .dataframe tbody tr th {\n",
              "        vertical-align: top;\n",
              "    }\n",
              "\n",
              "    .dataframe thead th {\n",
              "        text-align: right;\n",
              "    }\n",
              "</style>\n",
              "<table border=\"1\" class=\"dataframe\">\n",
              "  <thead>\n",
              "    <tr style=\"text-align: right;\">\n",
              "      <th></th>\n",
              "      <th>Current Loan Amount</th>\n",
              "      <th>Term</th>\n",
              "      <th>Credit Score</th>\n",
              "      <th>Annual Income</th>\n",
              "      <th>Home Ownership</th>\n",
              "      <th>Purpose</th>\n",
              "      <th>Monthly Debt</th>\n",
              "      <th>Current Credit Balance</th>\n",
              "      <th>Bankruptcies</th>\n",
              "    </tr>\n",
              "  </thead>\n",
              "  <tbody>\n",
              "    <tr>\n",
              "      <th>98912</th>\n",
              "      <td>445962</td>\n",
              "      <td>0</td>\n",
              "      <td>739</td>\n",
              "      <td>1793638</td>\n",
              "      <td>0</td>\n",
              "      <td>1</td>\n",
              "      <td>5081</td>\n",
              "      <td>195700</td>\n",
              "      <td>0</td>\n",
              "    </tr>\n",
              "    <tr>\n",
              "      <th>60823</th>\n",
              "      <td>261206</td>\n",
              "      <td>1</td>\n",
              "      <td>741</td>\n",
              "      <td>864728</td>\n",
              "      <td>1</td>\n",
              "      <td>1</td>\n",
              "      <td>15709</td>\n",
              "      <td>245746</td>\n",
              "      <td>0</td>\n",
              "    </tr>\n",
              "    <tr>\n",
              "      <th>29528</th>\n",
              "      <td>330264</td>\n",
              "      <td>1</td>\n",
              "      <td>745</td>\n",
              "      <td>2229840</td>\n",
              "      <td>0</td>\n",
              "      <td>1</td>\n",
              "      <td>22670</td>\n",
              "      <td>361836</td>\n",
              "      <td>0</td>\n",
              "    </tr>\n",
              "    <tr>\n",
              "      <th>87907</th>\n",
              "      <td>440066</td>\n",
              "      <td>1</td>\n",
              "      <td>716</td>\n",
              "      <td>1099682</td>\n",
              "      <td>1</td>\n",
              "      <td>1</td>\n",
              "      <td>9988</td>\n",
              "      <td>107863</td>\n",
              "      <td>0</td>\n",
              "    </tr>\n",
              "    <tr>\n",
              "      <th>21883</th>\n",
              "      <td>99999999</td>\n",
              "      <td>1</td>\n",
              "      <td>743</td>\n",
              "      <td>1912350</td>\n",
              "      <td>0</td>\n",
              "      <td>7</td>\n",
              "      <td>8669</td>\n",
              "      <td>376067</td>\n",
              "      <td>0</td>\n",
              "    </tr>\n",
              "  </tbody>\n",
              "</table>\n",
              "</div>\n",
              "      <button class=\"colab-df-convert\" onclick=\"convertToInteractive('df-74f56035-4a8c-47be-a8b1-0ec5bacb7b09')\"\n",
              "              title=\"Convert this dataframe to an interactive table.\"\n",
              "              style=\"display:none;\">\n",
              "        \n",
              "  <svg xmlns=\"http://www.w3.org/2000/svg\" height=\"24px\"viewBox=\"0 0 24 24\"\n",
              "       width=\"24px\">\n",
              "    <path d=\"M0 0h24v24H0V0z\" fill=\"none\"/>\n",
              "    <path d=\"M18.56 5.44l.94 2.06.94-2.06 2.06-.94-2.06-.94-.94-2.06-.94 2.06-2.06.94zm-11 1L8.5 8.5l.94-2.06 2.06-.94-2.06-.94L8.5 2.5l-.94 2.06-2.06.94zm10 10l.94 2.06.94-2.06 2.06-.94-2.06-.94-.94-2.06-.94 2.06-2.06.94z\"/><path d=\"M17.41 7.96l-1.37-1.37c-.4-.4-.92-.59-1.43-.59-.52 0-1.04.2-1.43.59L10.3 9.45l-7.72 7.72c-.78.78-.78 2.05 0 2.83L4 21.41c.39.39.9.59 1.41.59.51 0 1.02-.2 1.41-.59l7.78-7.78 2.81-2.81c.8-.78.8-2.07 0-2.86zM5.41 20L4 18.59l7.72-7.72 1.47 1.35L5.41 20z\"/>\n",
              "  </svg>\n",
              "      </button>\n",
              "      \n",
              "  <style>\n",
              "    .colab-df-container {\n",
              "      display:flex;\n",
              "      flex-wrap:wrap;\n",
              "      gap: 12px;\n",
              "    }\n",
              "\n",
              "    .colab-df-convert {\n",
              "      background-color: #E8F0FE;\n",
              "      border: none;\n",
              "      border-radius: 50%;\n",
              "      cursor: pointer;\n",
              "      display: none;\n",
              "      fill: #1967D2;\n",
              "      height: 32px;\n",
              "      padding: 0 0 0 0;\n",
              "      width: 32px;\n",
              "    }\n",
              "\n",
              "    .colab-df-convert:hover {\n",
              "      background-color: #E2EBFA;\n",
              "      box-shadow: 0px 1px 2px rgba(60, 64, 67, 0.3), 0px 1px 3px 1px rgba(60, 64, 67, 0.15);\n",
              "      fill: #174EA6;\n",
              "    }\n",
              "\n",
              "    [theme=dark] .colab-df-convert {\n",
              "      background-color: #3B4455;\n",
              "      fill: #D2E3FC;\n",
              "    }\n",
              "\n",
              "    [theme=dark] .colab-df-convert:hover {\n",
              "      background-color: #434B5C;\n",
              "      box-shadow: 0px 1px 3px 1px rgba(0, 0, 0, 0.15);\n",
              "      filter: drop-shadow(0px 1px 2px rgba(0, 0, 0, 0.3));\n",
              "      fill: #FFFFFF;\n",
              "    }\n",
              "  </style>\n",
              "\n",
              "      <script>\n",
              "        const buttonEl =\n",
              "          document.querySelector('#df-74f56035-4a8c-47be-a8b1-0ec5bacb7b09 button.colab-df-convert');\n",
              "        buttonEl.style.display =\n",
              "          google.colab.kernel.accessAllowed ? 'block' : 'none';\n",
              "\n",
              "        async function convertToInteractive(key) {\n",
              "          const element = document.querySelector('#df-74f56035-4a8c-47be-a8b1-0ec5bacb7b09');\n",
              "          const dataTable =\n",
              "            await google.colab.kernel.invokeFunction('convertToInteractive',\n",
              "                                                     [key], {});\n",
              "          if (!dataTable) return;\n",
              "\n",
              "          const docLinkHtml = 'Like what you see? Visit the ' +\n",
              "            '<a target=\"_blank\" href=https://colab.research.google.com/notebooks/data_table.ipynb>data table notebook</a>'\n",
              "            + ' to learn more about interactive tables.';\n",
              "          element.innerHTML = '';\n",
              "          dataTable['output_type'] = 'display_data';\n",
              "          await google.colab.output.renderOutput(dataTable, element);\n",
              "          const docLink = document.createElement('div');\n",
              "          docLink.innerHTML = docLinkHtml;\n",
              "          element.appendChild(docLink);\n",
              "        }\n",
              "      </script>\n",
              "    </div>\n",
              "  </div>\n",
              "  "
            ]
          },
          "metadata": {},
          "execution_count": 40
        }
      ],
      "source": [
        "from sklearn.model_selection import train_test_split\n",
        "X_train,X_test,Y_train,Y_test=train_test_split(X,Y,test_size=0.3,random_state=18)\n",
        "\n",
        "X_train.head()"
      ]
    },
    {
      "cell_type": "code",
      "execution_count": null,
      "metadata": {
        "id": "AkS4ojRcNiMJ"
      },
      "outputs": [],
      "source": [
        "# models=[]\n",
        "# models.append((\"Logistic Regression\",LogisticRegression()))\n",
        "# # models.append((\"Decision Tree\",DecisionTreeClassifier()))\n",
        "# # models.append((\"Random Forest\",RandomForestClassifier()))\n",
        "# models.append((\"Support Vector Classifier\",SVC()))\n",
        "# models.append((\"Naive Bayes\",GaussianNB()))\n"
      ]
    },
    {
      "cell_type": "code",
      "execution_count": null,
      "metadata": {
        "id": "JY2gGN_nNiN6"
      },
      "outputs": [],
      "source": [
        "# scoring='accuracy'\n",
        "# for name,model in models:\n",
        "#     kfold=KFold(n_splits=10)\n",
        "#     cv_result=cross_val_score(model,X_train,Y_train,cv=kfold,scoring=scoring)\n",
        "#     result.append(cv_result)\n",
        "#     names.append(name)\n",
        "#     print(model)\n",
        "#     print(\"%s %f\" % (name,cv_result.mean()))\n"
      ]
    },
    {
      "cell_type": "code",
      "execution_count": null,
      "metadata": {
        "id": "aU6Cr2x5NiP-",
        "colab": {
          "base_uri": "https://localhost:8080/"
        },
        "outputId": "c1758511-18f0-45c9-845e-95cfa22f91ad"
      },
      "outputs": [
        {
          "output_type": "stream",
          "name": "stderr",
          "text": [
            "/usr/local/lib/python3.7/dist-packages/sklearn/utils/validation.py:993: DataConversionWarning: A column-vector y was passed when a 1d array was expected. Please change the shape of y to (n_samples, ), for example using ravel().\n",
            "  y = column_or_1d(y, warn=True)\n",
            "/usr/local/lib/python3.7/dist-packages/sklearn/utils/validation.py:993: DataConversionWarning: A column-vector y was passed when a 1d array was expected. Please change the shape of y to (n_samples, ), for example using ravel().\n",
            "  y = column_or_1d(y, warn=True)\n",
            "/usr/local/lib/python3.7/dist-packages/sklearn/utils/validation.py:993: DataConversionWarning: A column-vector y was passed when a 1d array was expected. Please change the shape of y to (n_samples, ), for example using ravel().\n",
            "  y = column_or_1d(y, warn=True)\n",
            "/usr/local/lib/python3.7/dist-packages/sklearn/utils/validation.py:993: DataConversionWarning: A column-vector y was passed when a 1d array was expected. Please change the shape of y to (n_samples, ), for example using ravel().\n",
            "  y = column_or_1d(y, warn=True)\n"
          ]
        },
        {
          "output_type": "stream",
          "name": "stdout",
          "text": [
            "Decision Tree\n",
            "Model Accuracy:-  0.8374369990911344\n",
            "Confusion Matrix:- [[ 3048  3658]\n",
            " [  277 17223]]\n",
            "Classifivation Report:-               precision    recall  f1-score   support\n",
            "\n",
            "           0       0.92      0.45      0.61      6706\n",
            "           1       0.82      0.98      0.90     17500\n",
            "\n",
            "    accuracy                           0.84     24206\n",
            "   macro avg       0.87      0.72      0.75     24206\n",
            "weighted avg       0.85      0.84      0.82     24206\n",
            "\n"
          ]
        }
      ],
      "source": [
        "from sklearn.metrics import accuracy_score,make_scorer\n",
        "from sklearn.metrics import confusion_matrix\n",
        "from sklearn.metrics import classification_report\n",
        "from sklearn.model_selection import cross_val_score\n",
        "LR=LogisticRegression()\n",
        "cross_val_score(LR,X_train,Y_train,scoring=make_scorer(accuracy_score),cv=3)\n",
        "LR.fit(X_train,Y_train)    \n",
        "pred=LR.predict(X_test)\n",
        "\n",
        "print(\"Decision Tree\",)\n",
        "print(\"Model Accuracy:- \",accuracy_score(Y_test,pred))\n",
        "print(\"Confusion Matrix:-\",confusion_matrix(Y_test,pred))\n",
        "print(\"Classifivation Report:-\",classification_report(Y_test,pred))"
      ]
    },
    {
      "cell_type": "code",
      "execution_count": null,
      "metadata": {
        "id": "-82Nt13tX3ND"
      },
      "outputs": [],
      "source": [
        "import pickle\n",
        "from sklearn import svm\n",
        "# now you can save it to a file\n",
        "file = 'ML_Model11.pkl'\n",
        "with open(file, 'wb') as f:\n",
        "    pickle.dump(LR, f)"
      ]
    },
    {
      "cell_type": "code",
      "execution_count": null,
      "metadata": {
        "id": "be3ofgw0X3PQ"
      },
      "outputs": [],
      "source": [
        "# print(result)"
      ]
    },
    {
      "cell_type": "code",
      "execution_count": null,
      "metadata": {
        "id": "59Ow_t2jX3Ra"
      },
      "outputs": [],
      "source": [
        "# print(names[3])\n",
        "# print(result[3].mean())"
      ]
    },
    {
      "cell_type": "code",
      "execution_count": null,
      "metadata": {
        "id": "fy4t75OUX3TP"
      },
      "outputs": [],
      "source": [
        "# print(svc)"
      ]
    },
    {
      "cell_type": "code",
      "source": [
        "# print(test1.columns)"
      ],
      "metadata": {
        "id": "NtlJZxF1lg6r"
      },
      "execution_count": null,
      "outputs": []
    },
    {
      "cell_type": "code",
      "source": [
        "# test1"
      ],
      "metadata": {
        "id": "M0szjtgp-Mse"
      },
      "execution_count": null,
      "outputs": []
    },
    {
      "cell_type": "code",
      "source": [],
      "metadata": {
        "id": "ay240xs0YNs0"
      },
      "execution_count": null,
      "outputs": []
    }
  ],
  "metadata": {
    "colab": {
      "provenance": []
    },
    "kernelspec": {
      "display_name": "Python 3",
      "name": "python3"
    },
    "language_info": {
      "name": "python"
    }
  },
  "nbformat": 4,
  "nbformat_minor": 0
}